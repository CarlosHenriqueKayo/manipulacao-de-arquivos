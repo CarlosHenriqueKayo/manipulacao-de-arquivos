{
 "cells": [
  {
   "cell_type": "markdown",
   "id": "441de773",
   "metadata": {},
   "source": [
    "GRAVANDO ARQUIVOS"
   ]
  },
  {
   "cell_type": "code",
   "execution_count": 15,
   "id": "450d5d7b",
   "metadata": {},
   "outputs": [],
   "source": [
    "# Abrindo arquivos para gravação - modo w grava e sobrescreve\n",
    "arq2 = open(\"arquivos/arquivo2.txt\", \"w\") # w = write"
   ]
  },
  {
   "cell_type": "code",
   "execution_count": 16,
   "id": "e039348c",
   "metadata": {},
   "outputs": [
    {
     "ename": "UnsupportedOperation",
     "evalue": "not readable",
     "output_type": "error",
     "traceback": [
      "\u001b[1;31m---------------------------------------------------------------------------\u001b[0m",
      "\u001b[1;31mUnsupportedOperation\u001b[0m                      Traceback (most recent call last)",
      "\u001b[1;32m~\\AppData\\Local\\Temp\\ipykernel_6800\\1267072684.py\u001b[0m in \u001b[0;36m<module>\u001b[1;34m\u001b[0m\n\u001b[0;32m      1\u001b[0m \u001b[1;31m# Como abrir o arquivo APENAS para gravação, NÂO podemos usar comandos de leitura\u001b[0m\u001b[1;33m\u001b[0m\u001b[1;33m\u001b[0m\u001b[0m\n\u001b[1;32m----> 2\u001b[1;33m \u001b[0mprint\u001b[0m\u001b[1;33m(\u001b[0m\u001b[0marq2\u001b[0m\u001b[1;33m.\u001b[0m\u001b[0mread\u001b[0m\u001b[1;33m(\u001b[0m\u001b[1;33m)\u001b[0m\u001b[1;33m)\u001b[0m\u001b[1;33m\u001b[0m\u001b[1;33m\u001b[0m\u001b[0m\n\u001b[0m",
      "\u001b[1;31mUnsupportedOperation\u001b[0m: not readable"
     ]
    }
   ],
   "source": [
    "# Como abrir o arquivo APENAS para gravação, NÂO podemos usar comandos de leitura\n",
    "print(arq2.read())"
   ]
  },
  {
   "cell_type": "code",
   "execution_count": 17,
   "id": "af800374",
   "metadata": {},
   "outputs": [
    {
     "data": {
      "text/plain": [
       "33"
      ]
     },
     "execution_count": 17,
     "metadata": {},
     "output_type": "execute_result"
    }
   ],
   "source": [
    "# Gravando arquivo\n",
    "arq2.write(\"Aprendendo a programar em Python.\")"
   ]
  },
  {
   "cell_type": "code",
   "execution_count": 18,
   "id": "d5eace68",
   "metadata": {},
   "outputs": [],
   "source": [
    "arq2.close()"
   ]
  },
  {
   "cell_type": "code",
   "execution_count": 19,
   "id": "1cd0b0e5",
   "metadata": {},
   "outputs": [],
   "source": [
    "# Lendo arquivo gravado\n",
    "arq2 = open(\"arquivos/arquivo2.txt\", \"r\")"
   ]
  },
  {
   "cell_type": "code",
   "execution_count": 20,
   "id": "22f75224",
   "metadata": {},
   "outputs": [
    {
     "name": "stdout",
     "output_type": "stream",
     "text": [
      "Aprendendo a programar em Python.\n"
     ]
    }
   ],
   "source": [
    "print(arq2.read())"
   ]
  },
  {
   "cell_type": "code",
   "execution_count": 21,
   "id": "97f31e9f",
   "metadata": {},
   "outputs": [],
   "source": [
    "# Acrescentando conteúdo\n",
    "arq2 = open(\"arquivos/arquivo2.txt\", \"a\") # a = append"
   ]
  },
  {
   "cell_type": "code",
   "execution_count": 22,
   "id": "e83ec5a3",
   "metadata": {},
   "outputs": [
    {
     "data": {
      "text/plain": [
       "74"
      ]
     },
     "execution_count": 22,
     "metadata": {},
     "output_type": "execute_result"
    }
   ],
   "source": [
    "arq2.write(\" E a metodologia de ensino da Data Science Academy facilita o aprendizado.\")"
   ]
  },
  {
   "cell_type": "code",
   "execution_count": 23,
   "id": "93463ef0",
   "metadata": {},
   "outputs": [],
   "source": [
    "arq2.close()"
   ]
  },
  {
   "cell_type": "code",
   "execution_count": 24,
   "id": "c719189c",
   "metadata": {},
   "outputs": [],
   "source": [
    "arq2 = open(\"arquivos/arquivo2.txt\", \"r\")"
   ]
  },
  {
   "cell_type": "code",
   "execution_count": 25,
   "id": "c74452d6",
   "metadata": {},
   "outputs": [
    {
     "name": "stdout",
     "output_type": "stream",
     "text": [
      "Aprendendo a programar em Python. E a metodologia de ensino da Data Science Academy facilita o aprendizado.\n"
     ]
    }
   ],
   "source": [
    "print(arq2.read())"
   ]
  },
  {
   "cell_type": "code",
   "execution_count": 26,
   "id": "04dd52d5",
   "metadata": {},
   "outputs": [
    {
     "data": {
      "text/plain": [
       "0"
      ]
     },
     "execution_count": 26,
     "metadata": {},
     "output_type": "execute_result"
    }
   ],
   "source": [
    "# Retornando ao início do arquivo para leitura\n",
    "arq2.seek(0,0)"
   ]
  },
  {
   "cell_type": "code",
   "execution_count": 27,
   "id": "99a1bfd1",
   "metadata": {},
   "outputs": [
    {
     "name": "stdout",
     "output_type": "stream",
     "text": [
      "Aprendendo a programar em Python. E a metodologia de ensino da Data Science Academy facilita o aprendizado.\n"
     ]
    }
   ],
   "source": [
    "print(arq2.read())"
   ]
  },
  {
   "cell_type": "code",
   "execution_count": null,
   "id": "4f95ecab",
   "metadata": {},
   "outputs": [],
   "source": []
  },
  {
   "cell_type": "code",
   "execution_count": null,
   "id": "3529d846",
   "metadata": {},
   "outputs": [],
   "source": []
  }
 ],
 "metadata": {
  "kernelspec": {
   "display_name": "Python 3 (ipykernel)",
   "language": "python",
   "name": "python3"
  },
  "language_info": {
   "codemirror_mode": {
    "name": "ipython",
    "version": 3
   },
   "file_extension": ".py",
   "mimetype": "text/x-python",
   "name": "python",
   "nbconvert_exporter": "python",
   "pygments_lexer": "ipython3",
   "version": "3.9.13"
  }
 },
 "nbformat": 4,
 "nbformat_minor": 5
}
