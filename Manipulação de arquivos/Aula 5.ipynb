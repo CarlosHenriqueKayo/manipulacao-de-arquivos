{
 "cells": [
  {
   "cell_type": "code",
   "execution_count": 1,
   "metadata": {},
   "outputs": [],
   "source": [
    "import pandas as pd"
   ]
  },
  {
   "cell_type": "code",
   "execution_count": 2,
   "metadata": {},
   "outputs": [
    {
     "data": {
      "text/plain": [
       "'1.4.4'"
      ]
     },
     "execution_count": 2,
     "metadata": {},
     "output_type": "execute_result"
    }
   ],
   "source": [
    "pd.__version__"
   ]
  },
  {
   "cell_type": "code",
   "execution_count": 10,
   "metadata": {},
   "outputs": [],
   "source": [
    "arquivo = \"C:/Users/carlo/OneDrive/Documentos/salarios.csv.csv\""
   ]
  },
  {
   "cell_type": "code",
   "execution_count": 11,
   "metadata": {},
   "outputs": [],
   "source": [
    "df = pd.read_csv(arquivo)"
   ]
  },
  {
   "cell_type": "code",
   "execution_count": 12,
   "metadata": {},
   "outputs": [
    {
     "data": {
      "text/html": [
       "<div>\n",
       "<style scoped>\n",
       "    .dataframe tbody tr th:only-of-type {\n",
       "        vertical-align: middle;\n",
       "    }\n",
       "\n",
       "    .dataframe tbody tr th {\n",
       "        vertical-align: top;\n",
       "    }\n",
       "\n",
       "    .dataframe thead th {\n",
       "        text-align: right;\n",
       "    }\n",
       "</style>\n",
       "<table border=\"1\" class=\"dataframe\">\n",
       "  <thead>\n",
       "    <tr style=\"text-align: right;\">\n",
       "      <th></th>\n",
       "      <th>Name</th>\n",
       "      <th>Job Titles</th>\n",
       "      <th>Department</th>\n",
       "      <th>Full or Part-Time</th>\n",
       "      <th>Salary or Hourly</th>\n",
       "      <th>Typical Hours</th>\n",
       "      <th>Annual Salary</th>\n",
       "      <th>Hourly Rate</th>\n",
       "    </tr>\n",
       "  </thead>\n",
       "  <tbody>\n",
       "    <tr>\n",
       "      <th>0</th>\n",
       "      <td>CABALLERO, SAMUEL A</td>\n",
       "      <td>FOREMAN OF MOTOR TRUCK DRIVERS</td>\n",
       "      <td>DEPT STREETS AND SANITATION</td>\n",
       "      <td>F</td>\n",
       "      <td>HOURLY</td>\n",
       "      <td>40.0</td>\n",
       "      <td>NaN</td>\n",
       "      <td>41.41</td>\n",
       "    </tr>\n",
       "    <tr>\n",
       "      <th>1</th>\n",
       "      <td>CHAPMAN, BRYAN A</td>\n",
       "      <td>FIREFIGHTER-EMT (RECRUIT)</td>\n",
       "      <td>FIRE DEPARTMENT</td>\n",
       "      <td>F</td>\n",
       "      <td>SALARY</td>\n",
       "      <td>NaN</td>\n",
       "      <td>80448.0</td>\n",
       "      <td>NaN</td>\n",
       "    </tr>\n",
       "    <tr>\n",
       "      <th>2</th>\n",
       "      <td>MUNOZ, LISSETTE C</td>\n",
       "      <td>POLICE OFFICER</td>\n",
       "      <td>DEPARTMENT OF POLICE</td>\n",
       "      <td>F</td>\n",
       "      <td>SALARY</td>\n",
       "      <td>NaN</td>\n",
       "      <td>97974.0</td>\n",
       "      <td>NaN</td>\n",
       "    </tr>\n",
       "    <tr>\n",
       "      <th>3</th>\n",
       "      <td>ALDERDEN, JACOB M</td>\n",
       "      <td>CAPTAIN</td>\n",
       "      <td>DEPARTMENT OF POLICE</td>\n",
       "      <td>F</td>\n",
       "      <td>SALARY</td>\n",
       "      <td>NaN</td>\n",
       "      <td>159552.0</td>\n",
       "      <td>NaN</td>\n",
       "    </tr>\n",
       "    <tr>\n",
       "      <th>4</th>\n",
       "      <td>JOHNSON, ANTHONY L</td>\n",
       "      <td>MOTOR TRUCK DRIVER</td>\n",
       "      <td>DEPT OF WATER MANAGEMENT</td>\n",
       "      <td>F</td>\n",
       "      <td>HOURLY</td>\n",
       "      <td>40.0</td>\n",
       "      <td>NaN</td>\n",
       "      <td>39.25</td>\n",
       "    </tr>\n",
       "  </tbody>\n",
       "</table>\n",
       "</div>"
      ],
      "text/plain": [
       "                  Name                      Job Titles  \\\n",
       "0  CABALLERO, SAMUEL A  FOREMAN OF MOTOR TRUCK DRIVERS   \n",
       "1     CHAPMAN, BRYAN A       FIREFIGHTER-EMT (RECRUIT)   \n",
       "2    MUNOZ, LISSETTE C                  POLICE OFFICER   \n",
       "3    ALDERDEN, JACOB M                         CAPTAIN   \n",
       "4   JOHNSON, ANTHONY L              MOTOR TRUCK DRIVER   \n",
       "\n",
       "                    Department Full or Part-Time Salary or Hourly  \\\n",
       "0  DEPT STREETS AND SANITATION                 F           HOURLY   \n",
       "1              FIRE DEPARTMENT                 F           SALARY   \n",
       "2         DEPARTMENT OF POLICE                 F           SALARY   \n",
       "3         DEPARTMENT OF POLICE                 F           SALARY   \n",
       "4     DEPT OF WATER MANAGEMENT                 F           HOURLY   \n",
       "\n",
       "   Typical Hours  Annual Salary  Hourly Rate  \n",
       "0           40.0            NaN        41.41  \n",
       "1            NaN        80448.0          NaN  \n",
       "2            NaN        97974.0          NaN  \n",
       "3            NaN       159552.0          NaN  \n",
       "4           40.0            NaN        39.25  "
      ]
     },
     "execution_count": 12,
     "metadata": {},
     "output_type": "execute_result"
    }
   ],
   "source": [
    "df.head()"
   ]
  },
  {
   "cell_type": "code",
   "execution_count": 13,
   "metadata": {},
   "outputs": [
    {
     "data": {
      "text/plain": [
       "POLICE OFFICER                              8411\n",
       "FIREFIGHTER-EMT                             1367\n",
       "SERGEANT                                    1250\n",
       "POLICE OFFICER (ASSIGNED AS DETECTIVE)      1155\n",
       "MOTOR TRUCK DRIVER                           906\n",
       "                                            ... \n",
       "SUPVSR OF COST CONTROL                         1\n",
       "MICROBIOLOGIST IV                              1\n",
       "CRIMINALIST III                                1\n",
       "MECHANICAL ENGINEER II                         1\n",
       "POLICE OFFICER(ASGND AS LATENT PRINT EX)       1\n",
       "Name: Job Titles, Length: 1094, dtype: int64"
      ]
     },
     "execution_count": 13,
     "metadata": {},
     "output_type": "execute_result"
    }
   ],
   "source": [
    "df['Job Titles'].value_counts()"
   ]
  }
 ],
 "metadata": {
  "kernelspec": {
   "display_name": "base",
   "language": "python",
   "name": "python3"
  },
  "language_info": {
   "codemirror_mode": {
    "name": "ipython",
    "version": 3
   },
   "file_extension": ".py",
   "mimetype": "text/x-python",
   "name": "python",
   "nbconvert_exporter": "python",
   "pygments_lexer": "ipython3",
   "version": "3.9.13"
  },
  "orig_nbformat": 4
 },
 "nbformat": 4,
 "nbformat_minor": 2
}
